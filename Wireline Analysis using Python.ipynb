{
 "cells": [
  {
   "cell_type": "code",
   "execution_count": 14,
   "id": "70dbec08",
   "metadata": {},
   "outputs": [
    {
     "name": "stdout",
     "output_type": "stream",
     "text": [
      "Ali 2013\n"
     ]
    }
   ],
   "source": [
    "fname = 'Ali'\n",
    "\n",
    "yyyy = [2021, 8]\n",
    "\n",
    "print(fname,str(yyyy[0] - yyyy[1]))\n",
    "\n",
    "# LIST is an ordered collection of items while DICT is an unordered collection.\n",
    "# List is created by putting elements in [ ] separated by commas, while DICT is created by putting elements in { } as “key”:”value” separated by commas.\n",
    "# LIST and DICT consist of arrays. LIST and DIC are both mutable.\n"
   ]
  },
  {
   "cell_type": "code",
   "execution_count": null,
   "id": "d19b97ae",
   "metadata": {},
   "outputs": [],
   "source": []
  }
 ],
 "metadata": {
  "kernelspec": {
   "display_name": "Python 3 (ipykernel)",
   "language": "python",
   "name": "python3"
  },
  "language_info": {
   "codemirror_mode": {
    "name": "ipython",
    "version": 3
   },
   "file_extension": ".py",
   "mimetype": "text/x-python",
   "name": "python",
   "nbconvert_exporter": "python",
   "pygments_lexer": "ipython3",
   "version": "3.9.7"
  }
 },
 "nbformat": 4,
 "nbformat_minor": 5
}
